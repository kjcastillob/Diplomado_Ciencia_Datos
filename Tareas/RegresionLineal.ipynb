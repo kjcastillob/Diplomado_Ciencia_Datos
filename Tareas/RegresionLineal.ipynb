{
 "cells": [
  {
   "cell_type": "markdown",
   "id": "1c95f816-7fcb-44ab-9ca5-26686c504828",
   "metadata": {},
   "source": [
    "# REGRESIÓN LINEAL EN LA RELACIÓN DE DOS VARIABLES"
   ]
  },
  {
   "cell_type": "code",
   "execution_count": null,
   "id": "50dd2888-2312-47d4-9b6a-80e7b95f61d9",
   "metadata": {},
   "outputs": [],
   "source": [
    "![Regresión lineal](Regresion_lineal.png)"
   ]
  },
  {
   "cell_type": "code",
   "execution_count": null,
   "id": "9c49496c-c8ec-40b9-9272-e574f17e4da0",
   "metadata": {},
   "outputs": [],
   "source": []
  }
 ],
 "metadata": {
  "kernelspec": {
   "display_name": "Python 3 (ipykernel)",
   "language": "python",
   "name": "python3"
  },
  "language_info": {
   "codemirror_mode": {
    "name": "ipython",
    "version": 3
   },
   "file_extension": ".py",
   "mimetype": "text/x-python",
   "name": "python",
   "nbconvert_exporter": "python",
   "pygments_lexer": "ipython3",
   "version": "3.11.3"
  },
  "toc-autonumbering": true
 },
 "nbformat": 4,
 "nbformat_minor": 5
}
