{
 "cells": [
  {
   "cell_type": "markdown",
   "id": "1c95f816-7fcb-44ab-9ca5-26686c504828",
   "metadata": {},
   "source": [
    "# MEDIA - MEDIDA DE TENDENCIA"
   ]
  },
  {
   "cell_type": "markdown",
   "id": "29ee11e4-daf6-4ca1-a621-d42aaa17fe3e",
   "metadata": {
    "tags": []
   },
   "source": [
    "<center><img src=\"Media.jpg\" width=\"250\" height=\"100\"></center>"
   ]
  },
  {
   "cell_type": "markdown",
   "id": "bc050bb7-5ca1-4480-ae30-25f875e6a589",
   "metadata": {},
   "source": [
    "## Autor\n",
    "KELLY JOHANA CASTILLO BELTRAN"
   ]
  },
  {
   "cell_type": "markdown",
   "id": "876e1712-bd03-4753-9bc4-b30376d0ffd7",
   "metadata": {},
   "source": [
    "<center><img src=\"Joha Castillo.jpg\" width=\"250\" height=\"100\"></center>"
   ]
  },
  {
   "cell_type": "markdown",
   "id": "8355bd82-dc0d-4af4-8b65-22b9ab9ca1db",
   "metadata": {},
   "source": [
    "Especialista en Gerencia de Proyectos y Administradora de Empresas de la Universidad Minuto de Dios - Unimuto; con \n",
    "conocimientos en indicadores de gestión, procesos de auditoría y Excel. Experiencia de más de 15 años en el sector educativo coordinando áreas administrativas, planeación y ejecución de presupuestos, elaboración y presentación de informes. Manejo de proyectos educativos en todas sus etapas (maduración, formulación, ejecución y liquidación)\n"
   ]
  },
  {
   "cell_type": "markdown",
   "id": "f738dc1c-a044-4402-98ff-e5de5e5737c7",
   "metadata": {},
   "source": [
    "# Media"
   ]
  },
  {
   "cell_type": "markdown",
   "id": "5abda67c-e585-43a1-a9ec-4290aa35f5b3",
   "metadata": {},
   "source": [
    "La media $\\bar{x}$ es una medida de tendencia central que se utiliza para describir un conjunto de datos. También se le conoce como promedio y se calcula sumando todos los valores en el conjunto y dividiendo el resultado entre el número total de valores. La media es una medida útil para resumir datos numéricos y proporciona una idea general de la ubicación central de los datos. Se calcula mediante:\n",
    "\n",
    "$$\n",
    "\\bar{x} = \\frac{x_{1}+x_{2}+x_{3}+...+x_{n}}{n},\n",
    "$$\n",
    "donde $x_{i}$ son los datos i = 1,2,3 ..n con n el tamaño de la muestra. O escrito de otra forma\n",
    "\n",
    "$$\n",
    "    \\bar{x} =  \\frac{\\sum x_{i}}{n}\n",
    "$$"
   ]
  },
  {
   "cell_type": "markdown",
   "id": "c2e76592-ca55-47d0-b1f1-0fafd0401d9b",
   "metadata": {},
   "source": [
    "### Ejemplo"
   ]
  },
  {
   "cell_type": "code",
   "execution_count": 8,
   "id": "675df53e-48b3-4424-9946-2c5802f9268c",
   "metadata": {
    "tags": []
   },
   "outputs": [
    {
     "data": {
      "text/plain": [
       "10.5"
      ]
     },
     "execution_count": 8,
     "metadata": {},
     "output_type": "execute_result"
    }
   ],
   "source": [
    "(3 + 6 + 8 + 10 + 12 + 13 + 15 + 17) / 8"
   ]
  },
  {
   "cell_type": "code",
   "execution_count": 9,
   "id": "8bf0f3c5-3cbf-4331-afb8-5e451788add8",
   "metadata": {
    "tags": []
   },
   "outputs": [
    {
     "data": {
      "text/plain": [
       "10.5"
      ]
     },
     "execution_count": 9,
     "metadata": {},
     "output_type": "execute_result"
    }
   ],
   "source": [
    "import numpy as np\n",
    "datos = np.array([3, 6, 8, 10, 12, 13, 15, 17])\n",
    "datos.mean()"
   ]
  },
  {
   "cell_type": "markdown",
   "id": "fbcbaa07-4a6c-4136-aee3-94f7439fb4ce",
   "metadata": {},
   "source": [
    "## Bibliografia\n",
    "\n",
    "- Varsity Tutors(2023) Media [https://www.varsitytutors.com/hotmath/hotmath_help/spanish/topics/mean-median-mode](https://www.varsitytutors.com/hotmath/hotmath_help/spanish/topics/mean-median-mode)"
   ]
  },
  {
   "cell_type": "code",
   "execution_count": null,
   "id": "9d4d9a2f-0cae-4b96-a973-d50ab08fbe29",
   "metadata": {},
   "outputs": [],
   "source": []
  }
 ],
 "metadata": {
  "kernelspec": {
   "display_name": "Python 3 (ipykernel)",
   "language": "python",
   "name": "python3"
  },
  "language_info": {
   "codemirror_mode": {
    "name": "ipython",
    "version": 3
   },
   "file_extension": ".py",
   "mimetype": "text/x-python",
   "name": "python",
   "nbconvert_exporter": "python",
   "pygments_lexer": "ipython3",
   "version": "3.11.3"
  },
  "toc-autonumbering": true
 },
 "nbformat": 4,
 "nbformat_minor": 5
}
