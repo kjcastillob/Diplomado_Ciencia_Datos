{
 "cells": [
  {
   "cell_type": "markdown",
   "id": "1c95f816-7fcb-44ab-9ca5-26686c504828",
   "metadata": {},
   "source": [
    "# REGRESIÓN LINEAL EN LA RELACIÓN DE DOS VARIABLES"
   ]
  },
  {
   "cell_type": "markdown",
   "id": "bc050bb7-5ca1-4480-ae30-25f875e6a589",
   "metadata": {},
   "source": [
    "## Autor"
   ]
  },
  {
   "cell_type": "markdown",
   "id": "876e1712-bd03-4753-9bc4-b30376d0ffd7",
   "metadata": {},
   "source": [
    "<center><img src=\"Johana Valencia.jpg\" width=\"250\" height=\"100\"></center>"
   ]
  },
  {
   "cell_type": "markdown",
   "id": "8355bd82-dc0d-4af4-8b65-22b9ab9ca1db",
   "metadata": {},
   "source": [
    "La recolección de datos de dos variables, como la edad y el salario de un grupo de personas, y luego utilizar la regresión lineal para modelar la relación entre estas dos variables. Los estudiantes podrían calcular la pendiente y la intersección de la línea de regresión utilizando la fórmula matemática y luego interpretar los resultados para determinar si hay una correlación significativa entre la edad y el salario. Esta tarea permitiría a los estudiantes aplicar la fórmula matemática de la regresión lineal en un contexto práctico y"
   ]
  },
  {
   "cell_type": "markdown",
   "id": "f738dc1c-a044-4402-98ff-e5de5e5737c7",
   "metadata": {},
   "source": [
    "# Media"
   ]
  },
  {
   "cell_type": "markdown",
   "id": "5abda67c-e585-43a1-a9ec-4290aa35f5b3",
   "metadata": {},
   "source": [
    "La media $\\bar{x}$ es una medida de tendencia central que se utiliza para describir un conjunto de datos. También se le conoce como promedio y se calcula sumando todos los valores en el conjunto y dividiendo el resultado entre el número total de valores. La media es una medida útil para resumir datos numéricos y proporciona una idea general de la ubicación central de los datos. Se calcula mediante:\n",
    "\n",
    "$$\n",
    "\\bar{x} = \\frac{x_{1}+x_{2}+x_{3}+...+x_{n}}{n},\n",
    "$$\n",
    "donde $x_{i}$ son los datos i = 1,2,3 ..n con n el tamaño de la muestra. O escrito de otra forma\n",
    "\n",
    "$$\n",
    "    \\bar{x} =  \\frac{\\sum x_{i}}{n}\n",
    "$$"
   ]
  },
  {
   "cell_type": "markdown",
   "id": "c2e76592-ca55-47d0-b1f1-0fafd0401d9b",
   "metadata": {},
   "source": [
    "### Ejemplo"
   ]
  },
  {
   "cell_type": "code",
   "execution_count": 4,
   "id": "675df53e-48b3-4424-9946-2c5802f9268c",
   "metadata": {
    "tags": []
   },
   "outputs": [
    {
     "data": {
      "text/plain": [
       "6.75"
      ]
     },
     "execution_count": 4,
     "metadata": {},
     "output_type": "execute_result"
    }
   ],
   "source": [
    "(2 + 5 + 5 + 6 + 8 + 8 + 9 + 11) / 8"
   ]
  },
  {
   "cell_type": "code",
   "execution_count": 7,
   "id": "8bf0f3c5-3cbf-4331-afb8-5e451788add8",
   "metadata": {
    "tags": []
   },
   "outputs": [
    {
     "data": {
      "text/plain": [
       "6.75"
      ]
     },
     "execution_count": 7,
     "metadata": {},
     "output_type": "execute_result"
    }
   ],
   "source": [
    "import numpy as np\n",
    "datos = np.array([2, 5, 5, 6, 8, 8, 9, 11])\n",
    "datos.mean()"
   ]
  },
  {
   "cell_type": "markdown",
   "id": "fbcbaa07-4a6c-4136-aee3-94f7439fb4ce",
   "metadata": {},
   "source": [
    "## Bibliografia\n",
    "\n",
    "- wikipedia (2023) media [https://www.varsitytutors.com/hotmath/hotmath_help/spanish/topics/mean-median-mode](https://www.varsitytutors.com/hotmath/hotmath_help/spanish/topics/mean-median-mode)"
   ]
  },
  {
   "cell_type": "code",
   "execution_count": null,
   "id": "9d4d9a2f-0cae-4b96-a973-d50ab08fbe29",
   "metadata": {},
   "outputs": [],
   "source": []
  }
 ],
 "metadata": {
  "kernelspec": {
   "display_name": "Python 3 (ipykernel)",
   "language": "python",
   "name": "python3"
  },
  "language_info": {
   "codemirror_mode": {
    "name": "ipython",
    "version": 3
   },
   "file_extension": ".py",
   "mimetype": "text/x-python",
   "name": "python",
   "nbconvert_exporter": "python",
   "pygments_lexer": "ipython3",
   "version": "3.11.3"
  },
  "toc-autonumbering": true
 },
 "nbformat": 4,
 "nbformat_minor": 5
}
