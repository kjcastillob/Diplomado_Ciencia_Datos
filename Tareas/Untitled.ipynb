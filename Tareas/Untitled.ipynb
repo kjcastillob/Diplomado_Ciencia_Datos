{
 "cells": [
  {
   "cell_type": "code",
   "execution_count": 4,
   "id": "d4a4d2e0-925b-4980-a8b4-b7ad333fc856",
   "metadata": {
    "tags": []
   },
   "outputs": [
    {
     "name": "stdout",
     "output_type": "stream",
     "text": [
      "<class '__main__.Johana'>\n"
     ]
    }
   ],
   "source": [
    "class Johana:\n",
    "    pass\n",
    "print(Johana)"
   ]
  },
  {
   "cell_type": "code",
   "execution_count": 6,
   "id": "2507019c-326c-47d2-a588-f2fe57ecfbb8",
   "metadata": {
    "tags": []
   },
   "outputs": [],
   "source": [
    "u1 = Usuario()\n",
    "u2 = Usuario()"
   ]
  },
  {
   "cell_type": "code",
   "execution_count": 7,
   "id": "4c8c7447-2f16-4b40-adf5-dbc12054d1c7",
   "metadata": {
    "tags": []
   },
   "outputs": [
    {
     "data": {
      "text/plain": [
       "<__main__.Usuario at 0x14da2ecafd0>"
      ]
     },
     "execution_count": 7,
     "metadata": {},
     "output_type": "execute_result"
    }
   ],
   "source": [
    "u1"
   ]
  },
  {
   "cell_type": "code",
   "execution_count": 8,
   "id": "6142214e-e753-4447-808c-cf05128f1fb7",
   "metadata": {
    "tags": []
   },
   "outputs": [
    {
     "name": "stdout",
     "output_type": "stream",
     "text": [
      "Aprendizaje\n",
      "Profundo\n",
      "15\n"
     ]
    }
   ],
   "source": [
    "u1.nombre = \"Aprendizaje\"\n",
    "u1.apellido = \"Profundo\"\n",
    "u2. edad = 15\n",
    "\n",
    "print(u1.nombre)\n",
    "print(u1.apellido)\n",
    "print(u2.edad)\n"
   ]
  },
  {
   "cell_type": "code",
   "execution_count": 10,
   "id": "468c46c3-aa54-44ce-a6ce-c21d93007b69",
   "metadata": {
    "tags": []
   },
   "outputs": [
    {
     "name": "stdout",
     "output_type": "stream",
     "text": [
      "Kelly Castillo\n",
      "52815486\n"
     ]
    }
   ],
   "source": [
    "class Usuario:\n",
    "    def __init__(self, nombre_completo, fecha_nacimiento):\n",
    "        self.nombre_completo = nombre_completo\n",
    "        self.fecha_nacimiento = fecha_nacimiento\n",
    "        \n",
    "u3 = Usuario(\"Kelly Castillo\", \"52815486\")\n",
    "\n",
    "print(u3.nombre_completo)\n",
    "print(u3.fecha_nacimiento)"
   ]
  },
  {
   "cell_type": "code",
   "execution_count": null,
   "id": "cc39bb1a-2c80-4b07-8276-7665fc5af3fd",
   "metadata": {},
   "outputs": [],
   "source": []
  }
 ],
 "metadata": {
  "kernelspec": {
   "display_name": "Python 3 (ipykernel)",
   "language": "python",
   "name": "python3"
  },
  "language_info": {
   "codemirror_mode": {
    "name": "ipython",
    "version": 3
   },
   "file_extension": ".py",
   "mimetype": "text/x-python",
   "name": "python",
   "nbconvert_exporter": "python",
   "pygments_lexer": "ipython3",
   "version": "3.11.3"
  }
 },
 "nbformat": 4,
 "nbformat_minor": 5
}
